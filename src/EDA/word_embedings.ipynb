{
 "cells": [
  {
   "cell_type": "markdown",
   "metadata": {
    "id": "PfwCADj5SIuL"
   },
   "source": [
    "# Imports And Variables"
   ]
  },
  {
   "cell_type": "code",
   "execution_count": 1,
   "metadata": {
    "id": "8XU7xEoyaEiO"
   },
   "outputs": [],
   "source": [
    "import json\n",
    "import csv\n",
    "import fasttext\n",
    "import pandas as pd"
   ]
  },
  {
   "cell_type": "code",
   "execution_count": 7,
   "metadata": {
    "colab": {
     "base_uri": "https://localhost:8080/",
     "height": 345
    },
    "executionInfo": {
     "elapsed": 699,
     "status": "error",
     "timestamp": 1680485015855,
     "user": {
      "displayName": "Nikoloz Mikaberidze",
      "userId": "01608122918001706281"
     },
     "user_tz": -240
    },
    "id": "5u2OyQuaSV13",
    "outputId": "c475d072-4c63-405f-a02c-82f9fa07f10f"
   },
   "outputs": [],
   "source": [
    "# Reads the data as pandas dataframe\n",
    "with open('data.json', 'r', encoding='utf-8') as f:\n",
    "    data = pd.read_json(f)"
   ]
  },
  {
   "cell_type": "markdown",
   "metadata": {
    "id": "NQyadbi-Wb04"
   },
   "source": [
    "# Embeddings"
   ]
  },
  {
   "cell_type": "code",
   "execution_count": 8,
   "metadata": {
    "id": "IzCJdtHHWawz"
   },
   "outputs": [],
   "source": [
    "def fasttextImplementation(model='cbow', loss='hs', dim=300):\n",
    "    with open(\"data_text.txt\" , 'w') as f:\n",
    "        for txt in data['input']:\n",
    "            f.write(txt)\n",
    "            f.write('\\n')\n",
    "    emb = fasttext.train_unsupervised(input=\"data_text.txt\", model=model, loss=loss, dim=dim)\n",
    "    return emb"
   ]
  },
  {
   "cell_type": "code",
   "execution_count": 9,
   "metadata": {
    "id": "g7zsKjXcWoRt"
   },
   "outputs": [
    {
     "name": "stderr",
     "output_type": "stream",
     "text": [
      "Read 0M words\n",
      "Number of words:  13643\n",
      "Number of labels: 0\n",
      "Progress: 100.0% words/sec/thread:   18888 lr:  0.000000 avg.loss:  7.135700 ETA:   0h 0m 0s\n"
     ]
    }
   ],
   "source": [
    "embedding = fasttextImplementation()"
   ]
  },
  {
   "cell_type": "code",
   "execution_count": 10,
   "metadata": {
    "id": "cMtmHQoBWtOa"
   },
   "outputs": [],
   "source": [
    "def projectorFiles(embedding):\n",
    "    metadata = []\n",
    "    vectors = []\n",
    "    for i in embedding.get_words():\n",
    "        metadata.append(i)\n",
    "        vectors.append(embedding.get_word_vector(i))\n",
    "    return vectors, metadata"
   ]
  },
  {
   "cell_type": "code",
   "execution_count": 11,
   "metadata": {
    "id": "POBnWFJNWwYy"
   },
   "outputs": [],
   "source": [
    "vectors, metadata = projectorFiles(embedding=embedding)\n",
    "with open('output.tsv', 'wt') as out_file:\n",
    "    tsv_writer = csv.writer(out_file, delimiter='\\t')\n",
    "    for vector in vectors:\n",
    "      tsv_writer.writerow(vector)\n",
    "\n",
    "with open('metadata.tsv', 'wt') as out_file:\n",
    "    tsv_writer = csv.writer(out_file, delimiter='\\t')\n",
    "    for meta in metadata:\n",
    "      tsv_writer.writerow([meta])"
   ]
  }
 ],
 "metadata": {
  "colab": {
   "collapsed_sections": [
    "VBOA2_gsaX_o"
   ],
   "provenance": []
  },
  "kernelspec": {
   "display_name": "Python 3 (ipykernel)",
   "language": "python",
   "name": "python3"
  },
  "language_info": {
   "codemirror_mode": {
    "name": "ipython",
    "version": 3
   },
   "file_extension": ".py",
   "mimetype": "text/x-python",
   "name": "python",
   "nbconvert_exporter": "python",
   "pygments_lexer": "ipython3",
   "version": "3.10.6"
  }
 },
 "nbformat": 4,
 "nbformat_minor": 1
}
