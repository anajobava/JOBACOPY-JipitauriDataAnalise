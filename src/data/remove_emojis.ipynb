{
 "cells": [
  {
   "cell_type": "markdown",
   "metadata": {
    "id": "PfwCADj5SIuL"
   },
   "source": [
    "# Imports And Variables"
   ]
  },
  {
   "cell_type": "code",
   "execution_count": 1,
   "metadata": {
    "id": "8XU7xEoyaEiO"
   },
   "outputs": [],
   "source": [
    "import json\n",
    "import re\n",
    "import matplotlib.pyplot as plt\n",
    "import csv\n",
    "import pandas as pd"
   ]
  },
  {
   "cell_type": "code",
   "execution_count": 2,
   "metadata": {
    "colab": {
     "base_uri": "https://localhost:8080/",
     "height": 345
    },
    "executionInfo": {
     "elapsed": 699,
     "status": "error",
     "timestamp": 1680485015855,
     "user": {
      "displayName": "Nikoloz Mikaberidze",
      "userId": "01608122918001706281"
     },
     "user_tz": -240
    },
    "id": "5u2OyQuaSV13",
    "outputId": "c475d072-4c63-405f-a02c-82f9fa07f10f"
   },
   "outputs": [],
   "source": [
    "# Emoji regex pattern\n",
    "emoji_pattern = re.compile(\"[\\U0001F600-\\U0001F64F\\U0001F300-\\U0001F5FF\\U0001F680-\\U0001F6FF\\U0001F1E0-\\U0001F1FF]\")\n",
    "# Keys of the data\n",
    "keys = ['input', 'input_en', 'output', 'output_ge', 'summary']\n",
    "# Reads the data as pandas dataframe\n",
    "with open('masked_data.csv', 'r', encoding='utf-8') as f:\n",
    "    data = pd.read_csv(f)"
   ]
  },
  {
   "attachments": {},
   "cell_type": "markdown",
   "metadata": {
    "id": "9ToXmwjFWlGZ"
   },
   "source": [
    "# Statistic Functions"
   ]
  },
  {
   "cell_type": "code",
   "execution_count": 3,
   "metadata": {
    "id": "1K8nwZooSNwR"
   },
   "outputs": [],
   "source": [
    "def stat_create(pat: re, keys: list, name: str):\n",
    "  \"\"\" Calculates occurences of specific pattern in data's keys values \"\"\"\n",
    "  for key in keys:\n",
    "    data[key+\"_\"+name] = data[key].str.count(pat)\n",
    "    data[key+\"_\"+name].fillna(0)\n"
   ]
  },
  {
   "cell_type": "code",
   "execution_count": 4,
   "metadata": {
    "id": "9-OAB2h4nV9F"
   },
   "outputs": [],
   "source": [
    "def print_stat(label:str, name: str, keys: list):\n",
    "    print(label)\n",
    "    for key in keys:\n",
    "        print(f\"{key}: {data[key+'_'+name].sum()}\")"
   ]
  },
  {
   "cell_type": "code",
   "execution_count": 5,
   "metadata": {
    "id": "IungEf6bnV9F"
   },
   "outputs": [],
   "source": [
    "def stat_dict(keys:list, name:str)-> dict:\n",
    "    ans = {}\n",
    "    for key in keys:\n",
    "        ans[key] = data[key+'_'+name].sum()\n",
    "    return ans"
   ]
  },
  {
   "attachments": {},
   "cell_type": "markdown",
   "metadata": {},
   "source": [
    "# Masking Function"
   ]
  },
  {
   "cell_type": "code",
   "execution_count": null,
   "metadata": {
    "id": "Bp2gdx9eLaSJ"
   },
   "outputs": [],
   "source": [
    "def masking(pat: re, keys: list, replacment: str):\n",
    "  \"\"\" Masking every occurences of specific pattern \"\"\"\n",
    "  for key in keys:\n",
    "    data[key] = data[key].str.replace(pat, replacment)\n"
   ]
  },
  {
   "attachments": {},
   "cell_type": "markdown",
   "metadata": {
    "id": "po2sxqCVSV-b"
   },
   "source": [
    "# Emoji Statistics\n",
    "\n"
   ]
  },
  {
   "cell_type": "code",
   "execution_count": 6,
   "metadata": {
    "id": "kXsJlzqlnZfe"
   },
   "outputs": [],
   "source": [
    "emoji_stat = stat_create(emoji_pattern, keys,\"emoji_count\")"
   ]
  },
  {
   "cell_type": "code",
   "execution_count": 7,
   "metadata": {
    "id": "ElnlcxUsn0Hn"
   },
   "outputs": [
    {
     "name": "stdout",
     "output_type": "stream",
     "text": [
      "Emojis:\n",
      "input: 738\n",
      "input_en: 646\n",
      "output: 76.0\n",
      "output_ge: 39.0\n",
      "summary: 1385.0\n",
      "\n"
     ]
    }
   ],
   "source": [
    "print_stat(\"Emojis:\", \"emoji_count\", keys)\n",
    "print()"
   ]
  },
  {
   "attachments": {},
   "cell_type": "markdown",
   "metadata": {
    "id": "VBOA2_gsaX_o"
   },
   "source": [
    "# Masking Emojis\n",
    "\n"
   ]
  },
  {
   "attachments": {},
   "cell_type": "markdown",
   "metadata": {
    "id": "SxuMcVCCyYkY"
   },
   "source": [
    "This part of the code masks all the occurences of the emojis"
   ]
  },
  {
   "cell_type": "code",
   "execution_count": null,
   "metadata": {
    "id": "YfJQ0MlTnV9G"
   },
   "outputs": [],
   "source": [
    "masking(emoji_pattern, keys, \"\")"
   ]
  },
  {
   "cell_type": "markdown",
   "metadata": {
    "id": "qnPW_UqCyB2R"
   },
   "source": [
    "# Plotting"
   ]
  },
  {
   "attachments": {},
   "cell_type": "markdown",
   "metadata": {},
   "source": [
    "Emoji Pie Chart"
   ]
  },
  {
   "cell_type": "code",
   "execution_count": 9,
   "metadata": {
    "id": "L3_z7pveTOld"
   },
   "outputs": [
    {
     "data": {
      "image/png": "[encoded data removed]",
      "text/plain": [
       "<Figure size 640x480 with 1 Axes>"
      ]
     },
     "metadata": {},
     "output_type": "display_data"
    }
   ],
   "source": [
    "# Create a list of labels for the pie chart\n",
    "emojis = stat_dict(keys=keys, name=\"emoji_count\")\n",
    "values_emojis = list(emojis.values())\n",
    "emojis_title = f\"emojis({sum(emojis.values())})\" \n",
    "labels = list(emojis.keys())\n",
    "# Create the pie chart for dict2 in the second subplot\n",
    "plt.pie(values_emojis, labels=labels, autopct='%1.1f%%', startangle=90)\n",
    "plt.axis('equal')\n",
    "plt.title(emojis_title)\n",
    "plt.show()"
   ]
  }
 ],
 "metadata": {
  "colab": {
   "collapsed_sections": [
    "VBOA2_gsaX_o"
   ],
   "provenance": []
  },
  "kernelspec": {
   "display_name": "Python 3 (ipykernel)",
   "language": "python",
   "name": "python3"
  },
  "language_info": {
   "codemirror_mode": {
    "name": "ipython",
    "version": 3
   },
   "file_extension": ".py",
   "mimetype": "text/x-python",
   "name": "python",
   "nbconvert_exporter": "python",
   "pygments_lexer": "ipython3",
   "version": "3.10.6"
  }
 },
 "nbformat": 4,
 "nbformat_minor": 1
}
